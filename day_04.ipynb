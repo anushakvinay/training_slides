{
 "cells": [
  {
   "cell_type": "markdown",
   "metadata": {},
   "source": [
    "**Data structures**: a way of storing data in the memory.<br>\n",
    "\n"
   ]
  },
  {
   "cell_type": "markdown",
   "metadata": {},
   "source": [
    "**List**  holds different objects like str or int.<br>\n",
    "**Built-in functions**: append, extend,remove, sort, index <br>\n",
    "**Usage**: data manupulations and reading files.<br>\n",
    "Python supprots Arrays using the module called numpy. Usage of numpy at mathematical manipulations in Machine Learning/Deep Learning. <br>\n",
    "**Expected Error**: Index out of range"
   ]
  },
  {
   "cell_type": "code",
   "execution_count": 90,
   "metadata": {},
   "outputs": [
    {
     "data": {
      "text/plain": [
       "list"
      ]
     },
     "execution_count": 90,
     "metadata": {},
     "output_type": "execute_result"
    }
   ],
   "source": [
    "#Empty list\n",
    "\n",
    "my_list = list()\n",
    "my_list = []\n",
    "\n",
    "type(my_list)"
   ]
  },
  {
   "cell_type": "code",
   "execution_count": 91,
   "metadata": {},
   "outputs": [
    {
     "name": "stdout",
     "output_type": "stream",
     "text": [
      "['one', 33, 44]\n",
      "['one']\n",
      "one\n"
     ]
    }
   ],
   "source": [
    "colors = ['red', 'green']\n",
    "scores = [ 1,2]\n",
    "my_list = [ 'one', 33, 44 ]\n",
    "\n",
    "#read\n",
    "print( my_list)\n",
    "\n",
    "#slicing: \n",
    "print(my_list[0:1])\n",
    "\n",
    "#index base print\n",
    "print(my_list[0]) #Observe the type"
   ]
  },
  {
   "cell_type": "code",
   "execution_count": 105,
   "metadata": {},
   "outputs": [
    {
     "data": {
      "text/plain": [
       "[0, 2, 4, 6, 8]"
      ]
     },
     "execution_count": 105,
     "metadata": {},
     "output_type": "execute_result"
    }
   ],
   "source": [
    "# list all even numbers from 1 to 10\n",
    "\n",
    "def list_even(range_num):\n",
    "    list_output = []\n",
    "\n",
    "    for num in range(0,range_num):\n",
    "        if num % 2 == 0:\n",
    "         \n",
    "            list_output.append(num)\n",
    "     \n",
    "    return list_output\n",
    "        \n",
    "        \n",
    "\n",
    "list_even(10)"
   ]
  },
  {
   "cell_type": "markdown",
   "metadata": {},
   "source": [
    "**Dictionary** are used to store a collections of objects and which holds information in pairs of data, called key-value pairs.\n",
    "\n",
    "**Built-in funcions**: items, keys, values.<br>\n",
    "**Expected Error**: Key Missing"
   ]
  },
  {
   "cell_type": "code",
   "execution_count": 107,
   "metadata": {},
   "outputs": [],
   "source": [
    "#Empty dict\n",
    "d = {}\n",
    "d = dict()"
   ]
  },
  {
   "cell_type": "code",
   "execution_count": 108,
   "metadata": {},
   "outputs": [
    {
     "name": "stdout",
     "output_type": "stream",
     "text": [
      "dict_keys(['a', 'b'])\n",
      "dict_values([1, 2])\n",
      "\n",
      "\n",
      "Keys: a and values: 1\n",
      "Keys: b and values: 2\n"
     ]
    }
   ],
   "source": [
    "d = { 'a': 1, 'b': 2 }\n",
    "\n",
    "#print keys\n",
    "print( d.keys())\n",
    "\n",
    "#print values\n",
    "print( d.values() )\n",
    "\n",
    "#print Both keys and values\n",
    "print('\\n')\n",
    "for key,value in d.items():\n",
    "    print(\"Keys: {} and values: {}\".format(key,value))"
   ]
  },
  {
   "cell_type": "code",
   "execution_count": 110,
   "metadata": {},
   "outputs": [],
   "source": [
    "#Please check the Bugs articles for more info\n"
   ]
  },
  {
   "cell_type": "markdown",
   "metadata": {},
   "source": [
    "**Set** is an unordered collection of items and every element is unique ( no duplicates ). <br>\n",
    "**Usage**: Set theory or intersection,difference,union."
   ]
  },
  {
   "cell_type": "code",
   "execution_count": 115,
   "metadata": {},
   "outputs": [],
   "source": [
    "s = set() #empty set\n",
    "\n",
    "s = set(['a','b','c'])\n",
    "\n"
   ]
  },
  {
   "cell_type": "code",
   "execution_count": 118,
   "metadata": {},
   "outputs": [],
   "source": [
    "#Check the list has duplicate elements or not !\n",
    "\n",
    "input_list = [ 1,1,2,3]\n",
    "\n",
    "def check_duplicate_elements( input_list ):\n",
    "    len_original_input_list = len(input_list)\n",
    "    set_input_list = set(input_list)\n",
    "    len_set_input = len( set_input_list )\n",
    "    \n",
    "    if len_original_input_list == len_set_input:\n",
    "        print(\"There are no duplicates elements\")\n",
    "    else:\n",
    "        print(\"There are duplicates elementes\")\n",
    "        \n",
    "        "
   ]
  },
  {
   "cell_type": "code",
   "execution_count": 117,
   "metadata": {},
   "outputs": [
    {
     "name": "stdout",
     "output_type": "stream",
     "text": [
      "There are duplicates elementes\n"
     ]
    }
   ],
   "source": [
    "check_duplicate_elements([ 1,2,1])"
   ]
  },
  {
   "cell_type": "markdown",
   "metadata": {},
   "source": [
    "**find the duplicates elements in the list**<br>\n",
    "input_list = [1,3,1,2]<br>"
   ]
  },
  {
   "cell_type": "code",
   "execution_count": 1,
   "metadata": {},
   "outputs": [],
   "source": [
    "#Practise here\n"
   ]
  },
  {
   "cell_type": "markdown",
   "metadata": {},
   "source": [
    "**find the missing elements from the ordered list**<br>\n",
    "input_list = [ 1,2,5 ]"
   ]
  },
  {
   "cell_type": "code",
   "execution_count": 2,
   "metadata": {},
   "outputs": [],
   "source": [
    "#practice here"
   ]
  },
  {
   "cell_type": "markdown",
   "metadata": {},
   "source": [
    "**find the difference between two files ( csv and json files)**"
   ]
  },
  {
   "cell_type": "code",
   "execution_count": 3,
   "metadata": {},
   "outputs": [],
   "source": [
    "#practice here"
   ]
  },
  {
   "cell_type": "markdown",
   "metadata": {},
   "source": [
    "**Questions**:<br> What is the difference between list and dict ? Can we consider index of list as keys ?  then, why do we need dict ? <br>\n",
    "Can dict keys are integers ? Why ? <br>\n",
    "Difference between set and dict ? <br>"
   ]
  },
  {
   "cell_type": "markdown",
   "metadata": {},
   "source": [
    "**List Summary**"
   ]
  },
  {
   "cell_type": "code",
   "execution_count": null,
   "metadata": {},
   "outputs": [],
   "source": []
  }
 ],
 "metadata": {
  "kernelspec": {
   "display_name": "Python 3",
   "language": "python",
   "name": "python3"
  },
  "language_info": {
   "codemirror_mode": {
    "name": "ipython",
    "version": 3
   },
   "file_extension": ".py",
   "mimetype": "text/x-python",
   "name": "python",
   "nbconvert_exporter": "python",
   "pygments_lexer": "ipython3",
   "version": "3.7.1"
  }
 },
 "nbformat": 4,
 "nbformat_minor": 2
}
